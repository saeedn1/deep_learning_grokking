{
 "cells": [
  {
   "cell_type": "code",
   "execution_count": 8,
   "metadata": {},
   "outputs": [
    {
     "ename": "TypeError",
     "evalue": "can't multiply sequence by non-int of type 'float'",
     "output_type": "error",
     "traceback": [
      "\u001b[1;31m---------------------------------------------------------------------------\u001b[0m",
      "\u001b[1;31mTypeError\u001b[0m                                 Traceback (most recent call last)",
      "\u001b[1;32mc:\\Users\\it\\Desktop\\مجلد جديد\\Grokking.ipynb Cell 1\u001b[0m line \u001b[0;36m2\n\u001b[0;32m     <a href='vscode-notebook-cell:/c%3A/Users/it/Desktop/%D9%85%D8%AC%D9%84%D8%AF%20%D8%AC%D8%AF%D9%8A%D8%AF/Grokking.ipynb#W0sZmlsZQ%3D%3D?line=19'>20</a>\u001b[0m win_or_lose_binary \u001b[39m=\u001b[39m [\u001b[39m1\u001b[39m,\u001b[39m1\u001b[39m,\u001b[39m0\u001b[39m,\u001b[39m1\u001b[39m]\n\u001b[0;32m     <a href='vscode-notebook-cell:/c%3A/Users/it/Desktop/%D9%85%D8%AC%D9%84%D8%AF%20%D8%AC%D8%AF%D9%8A%D8%AF/Grokking.ipynb#W0sZmlsZQ%3D%3D?line=20'>21</a>\u001b[0m true \u001b[39m=\u001b[39m win_or_lose_binary[\u001b[39m0\u001b[39m]\n\u001b[1;32m---> <a href='vscode-notebook-cell:/c%3A/Users/it/Desktop/%D9%85%D8%AC%D9%84%D8%AF%20%D8%AC%D8%AF%D9%8A%D8%AF/Grokking.ipynb#W0sZmlsZQ%3D%3D?line=22'>23</a>\u001b[0m pred \u001b[39m=\u001b[39m neural_network(\u001b[39minput\u001b[39;49m, weights)\n\u001b[0;32m     <a href='vscode-notebook-cell:/c%3A/Users/it/Desktop/%D9%85%D8%AC%D9%84%D8%AF%20%D8%AC%D8%AF%D9%8A%D8%AF/Grokking.ipynb#W0sZmlsZQ%3D%3D?line=23'>24</a>\u001b[0m error \u001b[39m=\u001b[39m (pred \u001b[39m-\u001b[39m true)\u001b[39m*\u001b[39m\u001b[39m*\u001b[39m\u001b[39m2\u001b[39m \n\u001b[0;32m     <a href='vscode-notebook-cell:/c%3A/Users/it/Desktop/%D9%85%D8%AC%D9%84%D8%AF%20%D8%AC%D8%AF%D9%8A%D8%AF/Grokking.ipynb#W0sZmlsZQ%3D%3D?line=24'>25</a>\u001b[0m delta \u001b[39m=\u001b[39m pred \u001b[39m-\u001b[39m true\n",
      "\u001b[1;32mc:\\Users\\it\\Desktop\\مجلد جديد\\Grokking.ipynb Cell 1\u001b[0m line \u001b[0;36m1\n\u001b[0;32m      <a href='vscode-notebook-cell:/c%3A/Users/it/Desktop/%D9%85%D8%AC%D9%84%D8%AF%20%D8%AC%D8%AF%D9%8A%D8%AF/Grokking.ipynb#W0sZmlsZQ%3D%3D?line=8'>9</a>\u001b[0m \u001b[39mdef\u001b[39;00m \u001b[39mneural_network\u001b[39m(\u001b[39minput\u001b[39m, weights):\n\u001b[1;32m---> <a href='vscode-notebook-cell:/c%3A/Users/it/Desktop/%D9%85%D8%AC%D9%84%D8%AF%20%D8%AC%D8%AF%D9%8A%D8%AF/Grokking.ipynb#W0sZmlsZQ%3D%3D?line=9'>10</a>\u001b[0m     pred \u001b[39m=\u001b[39m w_sum(\u001b[39minput\u001b[39;49m, weights)\n\u001b[0;32m     <a href='vscode-notebook-cell:/c%3A/Users/it/Desktop/%D9%85%D8%AC%D9%84%D8%AF%20%D8%AC%D8%AF%D9%8A%D8%AF/Grokking.ipynb#W0sZmlsZQ%3D%3D?line=10'>11</a>\u001b[0m     \u001b[39mreturn\u001b[39;00m pred\n",
      "\u001b[1;32mc:\\Users\\it\\Desktop\\مجلد جديد\\Grokking.ipynb Cell 1\u001b[0m line \u001b[0;36m6\n\u001b[0;32m      <a href='vscode-notebook-cell:/c%3A/Users/it/Desktop/%D9%85%D8%AC%D9%84%D8%AF%20%D8%AC%D8%AF%D9%8A%D8%AF/Grokking.ipynb#W0sZmlsZQ%3D%3D?line=2'>3</a>\u001b[0m output \u001b[39m=\u001b[39m \u001b[39m0\u001b[39m \n\u001b[0;32m      <a href='vscode-notebook-cell:/c%3A/Users/it/Desktop/%D9%85%D8%AC%D9%84%D8%AF%20%D8%AC%D8%AF%D9%8A%D8%AF/Grokking.ipynb#W0sZmlsZQ%3D%3D?line=4'>5</a>\u001b[0m \u001b[39mfor\u001b[39;00m i \u001b[39min\u001b[39;00m \u001b[39mrange\u001b[39m(\u001b[39mlen\u001b[39m(a)):\n\u001b[1;32m----> <a href='vscode-notebook-cell:/c%3A/Users/it/Desktop/%D9%85%D8%AC%D9%84%D8%AF%20%D8%AC%D8%AF%D9%8A%D8%AF/Grokking.ipynb#W0sZmlsZQ%3D%3D?line=5'>6</a>\u001b[0m     output \u001b[39m+\u001b[39m\u001b[39m=\u001b[39m (a[i] \u001b[39m*\u001b[39;49m b[i])\n\u001b[0;32m      <a href='vscode-notebook-cell:/c%3A/Users/it/Desktop/%D9%85%D8%AC%D9%84%D8%AF%20%D8%AC%D8%AF%D9%8A%D8%AF/Grokking.ipynb#W0sZmlsZQ%3D%3D?line=6'>7</a>\u001b[0m \u001b[39mreturn\u001b[39;00m output\n",
      "\u001b[1;31mTypeError\u001b[0m: can't multiply sequence by non-int of type 'float'"
     ]
    }
   ],
   "source": [
    "def w_sum(a,b):\n",
    "    assert(len(a) == len(b))\n",
    "    output = 0 \n",
    "\n",
    "    for i in range(len(a)):\n",
    "        output += (a[i] * b[i])\n",
    "    return output\n",
    "\n",
    "def neural_network(input, weights):\n",
    "    pred = w_sum(input, weights)\n",
    "    return pred\n",
    "\n",
    "weights = [0.1, 0.2 , -0.1]\n",
    "\n",
    "toes = [8.5, 9.5, 9.9, 9.0]\n",
    "wlrec= [0.65, 0.8, 0.8, 0.9]\n",
    "nfans= [1.2, 1.3, 0.5, 1.0]\n",
    "input = [toes[0], wlrec[0], nfans[0]]\n",
    "\n",
    "win_or_lose_binary = [1,1,0,1]\n",
    "true = win_or_lose_binary[0]\n",
    "\n",
    "pred = neural_network(input, weights)\n",
    "error = (pred - true)**2 \n",
    "delta = pred - true\n",
    "\n",
    "print( 'prediction = ', pred, 'true value= ', true)\n",
    "print('error = ', error)\n",
    "print('weight delta =', delta)"
   ]
  },
  {
   "cell_type": "code",
   "execution_count": null,
   "metadata": {},
   "outputs": [],
   "source": []
  }
 ],
 "metadata": {
  "kernelspec": {
   "display_name": "Python 3",
   "language": "python",
   "name": "python3"
  },
  "language_info": {
   "codemirror_mode": {
    "name": "ipython",
    "version": 3
   },
   "file_extension": ".py",
   "mimetype": "text/x-python",
   "name": "python",
   "nbconvert_exporter": "python",
   "pygments_lexer": "ipython3",
   "version": "3.11.1"
  }
 },
 "nbformat": 4,
 "nbformat_minor": 2
}
